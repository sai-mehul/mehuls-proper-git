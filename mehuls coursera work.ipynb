{
 "cells": [
  {
   "cell_type": "markdown",
   "metadata": {},
   "source": [
    "<center>\n",
    "    <img src=\"https://cf-courses-data.s3.us.cloud-object-storage.appdomain.cloud/IBMDeveloperSkillsNetwork-DS0105EN-SkillsNetwork/labs/Module2/images/SN_web_lightmode.png\" width=\"300\" alt=\"cognitiveclass.ai logo\">\n",
    "</center>\n"
   ]
  },
  {
   "cell_type": "markdown",
   "metadata": {},
   "source": [
    "# coursera project "
   ]
  },
  {
   "cell_type": "markdown",
   "metadata": {},
   "source": [
    "# a marked coursera project "
   ]
  },
  {
   "cell_type": "markdown",
   "metadata": {},
   "source": [
    "# the list of data science tools are :\n",
    "<li>python\n",
    "<li>julia \n",
    "<li>R\n",
    "<li>javascript\n",
    "<li>Scala\n",
    "<li>C\n",
    "<li>C++\n",
    "<li>SQL"
   ]
  },
  {
   "cell_type": "markdown",
   "metadata": {},
   "source": [
    "# data science libraries are:\n",
    "\n",
    "\n",
    " <ol>\n",
    "<li>pyplot</li>\n",
    "<li>ggplot </li>\n",
    "<li>seaborn</li>\n",
    "<li>keras</li>\n",
    "<li>sckit-learn </li>\n",
    "<li>pandas </li>\n",
    "<li>matplotlib </li>\n",
    "<li>sklearn </li>\n",
    "</ol>"
   ]
  },
  {
   "cell_type": "markdown",
   "metadata": {},
   "source": [
    "<b>tools used in data science</b>\n",
    "<li>R studio \n",
    "<li>Jupyter \n",
    "<li>Watson Studio \n",
    "<li>Apache Spark \n",
    "<li>SAS\n",
    "<li>MATLAB\n",
    "<li>Tableau\n",
    "<li>Excel "
   ]
  },
  {
   "cell_type": "markdown",
   "metadata": {},
   "source": [
    "2+2=4\n",
    "<ol>2*4=8"
   ]
  },
  {
   "cell_type": "code",
   "execution_count": 2,
   "metadata": {},
   "outputs": [
    {
     "name": "stdout",
     "output_type": "stream",
     "text": [
      "4\n",
      "4\n"
     ]
    }
   ],
   "source": [
    "print(2+2)\n",
    "print(2*2)"
   ]
  },
  {
   "cell_type": "code",
   "execution_count": 7,
   "metadata": {},
   "outputs": [
    {
     "name": "stdin",
     "output_type": "stream",
     "text": [
      "enter the number of minutes 139\n"
     ]
    },
    {
     "name": "stdout",
     "output_type": "stream",
     "text": [
      "that'll be 2.316666666666667 hours\n"
     ]
    }
   ],
   "source": [
    "minutes = int(input(\"enter the number of minutes\"))\n",
    "hours = minutes/60 \n",
    "print(\"that'll be \"+str(float(hours))+\" hours\")"
   ]
  },
  {
   "cell_type": "markdown",
   "metadata": {},
   "source": [
    "<b>objectives of data science</b>\n",
    "<li>to sort data</li>\n",
    "<li>to analyze data</li>\n",
    "<li>to optimize business processes</li>\n",
    "<li>to manage data</li>\n",
    "<li>to predict data</li>"
   ]
  },
  {
   "cell_type": "markdown",
   "metadata": {},
   "source": [
    "Author's Name : Mehul\n",
    "Github"
   ]
  }
 ],
 "metadata": {
  "kernelspec": {
   "display_name": "Python",
   "language": "python",
   "name": "conda-env-python-py"
  },
  "language_info": {
   "codemirror_mode": {
    "name": "ipython",
    "version": 3
   },
   "file_extension": ".py",
   "mimetype": "text/x-python",
   "name": "python",
   "nbconvert_exporter": "python",
   "pygments_lexer": "ipython3",
   "version": "3.7.12"
  }
 },
 "nbformat": 4,
 "nbformat_minor": 4
}
